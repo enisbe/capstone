{
 "cells": [
  {
   "cell_type": "markdown",
   "id": "62c456f5-b2d1-410a-b7c5-eaca3d32033b",
   "metadata": {},
   "source": [
    "# Model Training\n",
    "\n",
    "Estimates the SVM models and saves the models and necceary files (e.g. scalars) for productionalization \n",
    "\n",
    "**Import** - scikit learn version must match the same version that will be used in product. Therefore specify the scikit-learn installed version here and in production\n",
    "\n",
    "`pip install scikit-learn==0.21.3`\n"
   ]
  },
  {
   "cell_type": "code",
   "execution_count": 25,
   "id": "184fc3bb-2a28-4367-81e7-f102c40f1519",
   "metadata": {},
   "outputs": [],
   "source": [
    "import path\n",
    "import warnings\n",
    "warnings.filterwarnings(\"ignore\", category=DeprecationWarning)\n",
    "from sklearn.svm import SVC\n",
    "from sklearn.preprocessing import StandardScaler\n",
    "import pandas as pd \n",
    "import json\n",
    "from datetime import datetime, timedelta\n",
    "import pickle"
   ]
  },
  {
   "cell_type": "code",
   "execution_count": 92,
   "id": "bbfa06cd-3c36-4b6d-82d9-f9e7b61e1fae",
   "metadata": {},
   "outputs": [],
   "source": [
    "# Get training data (final data)\n",
    "full_df  = pd.read_csv(path.dir_path + \"data/processed_data/final_data.csv\")\n",
    " "
   ]
  },
  {
   "cell_type": "code",
   "execution_count": 48,
   "id": "2cc795d6-6586-4410-b7d8-b52282f35c92",
   "metadata": {},
   "outputs": [],
   "source": [
    "# specify the test dates\n",
    "\n",
    "testing_dates = {}\n",
    "now = datetime.now()\n",
    "month = now.strftime('%m')\n",
    "year = now.year        \n",
    "most_recent_date = '{}-{}-01'.format(year, month)\n",
    " \n",
    "testing_dates  = {'cv_start': '2010-10-01', \n",
    "                   'cv_end': '2021-07-01', \n",
    "                    'pred_start': '2021-08-01',\n",
    "                    'pred_end': most_recent_date} \n",
    "\n",
    "full_df = full_df.sort_values(['Dates'], ascending=True)\n",
    "full_df.reset_index(inplace=True)\n",
    "full_df.drop('index', axis=1, inplace=True)\n",
    "date_condition = ((full_df['Dates'] <= testing_dates['pred_end']) &\n",
    "                  (full_df['Dates'] >= testing_dates['pred_start']))\n",
    "pred_indices = list(full_df[date_condition].index)\\\n",
    "\n",
    "feature_names = ['Payrolls_3mo_vs_12mo',\n",
    "                      'Real_Fed_Funds_Rate_12mo_chg',\n",
    "                      'CPI_3mo_pct_chg_annualized',\n",
    "                      '10Y_Treasury_Rate_12mo_chg',\n",
    "                      '3M_10Y_Treasury_Spread',\n",
    "                      'S&P_500_12mo_chg']\n",
    "output_names = ['Recession','Recession_within_6mo',  'Recession_within_12mo', 'Recession_within_24mo']\n",
    "\n"
   ]
  },
  {
   "cell_type": "markdown",
   "id": "023ac521-433b-4d33-a636-a5f9f92efa9d",
   "metadata": {},
   "source": [
    "#### SVM Hyperparametas for Gamma and C "
   ]
  },
  {
   "cell_type": "code",
   "execution_count": 82,
   "id": "2ef307c0-3e4f-4e33-9bf9-ea39100725ed",
   "metadata": {},
   "outputs": [],
   "source": [
    "C= {}\n",
    "gamma = {}\n",
    "\n",
    "C[24] = 0.075\n",
    "C[12] = 0.5\n",
    "C[6] = 2.5\n",
    "\n",
    "gamma[24] = 0.041666666666666005\n",
    "gamma[12] = 0.041666666666666005\n",
    "gamma[6] = 0.041666666666666005\n"
   ]
  },
  {
   "cell_type": "markdown",
   "id": "967b7bde-ad65-433b-94f1-c9812b953323",
   "metadata": {},
   "source": [
    "#### Save the model state for productionalization"
   ]
  },
  {
   "cell_type": "code",
   "execution_count": 90,
   "id": "eb8bb4a3-f469-4f28-9ebe-d6bd1c0ee709",
   "metadata": {},
   "outputs": [],
   "source": [
    "\n",
    "models = [6,12,24]\n",
    "for model in models:\n",
    "\n",
    "    output_name = f'Recession_within_{model}mo'\n",
    "    optimal_C = C[model]   \n",
    "    optimal_gamma = gamma[model]  \n",
    "    all_predicted_probs = pd.DataFrame()\n",
    "    svm_predictions = {}\n",
    "\n",
    "    all_testing_y = pd.Series()\n",
    "    dates = []\n",
    "    training_x = full_df.loc[: (pred_indices[0] - 1), feature_names]\n",
    "    training_y = full_df.loc[: (pred_indices[0] - 1), output_name]\n",
    "    scaler = StandardScaler()\n",
    "    scaler.fit(training_x)\n",
    "\n",
    "    scaler.fit(training_x)\n",
    "    training_x_scaled = scaler.transform(training_x)\n",
    "    svm = SVC(C=optimal_C, kernel='rbf', gamma=optimal_gamma,\n",
    "              probability=True, tol=1e-3, random_state=123,\n",
    "              class_weight='balanced')\n",
    "\n",
    "\n",
    "    svm.fit(X=training_x_scaled, y=training_y) \n",
    "\n",
    "    with open(f\"./models/scaler{model}.pickle\", 'wb') as s:\n",
    "        pickle.dump(scaler,s)\n",
    "    with open(f\"./models/model{model}.pickle\", 'wb') as m:\n",
    "        pickle.dump(svm,m)"
   ]
  },
  {
   "cell_type": "code",
   "execution_count": null,
   "id": "c4718ee5-4650-4285-8eb3-08228a48a7d0",
   "metadata": {},
   "outputs": [],
   "source": []
  }
 ],
 "metadata": {
  "kernelspec": {
   "display_name": "Python 3 (ipykernel)",
   "language": "python",
   "name": "python3"
  },
  "language_info": {
   "codemirror_mode": {
    "name": "ipython",
    "version": 3
   },
   "file_extension": ".py",
   "mimetype": "text/x-python",
   "name": "python",
   "nbconvert_exporter": "python",
   "pygments_lexer": "ipython3",
   "version": "3.7.13"
  }
 },
 "nbformat": 4,
 "nbformat_minor": 5
}
